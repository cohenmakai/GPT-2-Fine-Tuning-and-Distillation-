{
 "cells": [
  {
   "cell_type": "code",
   "execution_count": 5,
   "metadata": {},
   "outputs": [],
   "source": [
    "import os\n",
    "import pandas as pd\n",
    "\n",
    "\n",
    "files = os.listdir(\"thumbs up\")\n",
    "\n",
    "\n",
    "l = []\n",
    "\n",
    "for i in range(len(files)):\n",
    "    l.append([files[i],None])\n",
    "\n",
    "df= pd.DataFrame(l,columns=['image','prompt'])\n",
    "df.to_csv(\"prompts.csv\")\n"
   ]
  },
  {
   "cell_type": "code",
   "execution_count": 2,
   "metadata": {},
   "outputs": [],
   "source": [
    "import os\n",
    "import pandas as pd\n",
    "import jsonlines\n",
    "import json\n",
    "\n",
    "df = pd.read_csv(\"prompts.csv\")\n",
    "with jsonlines.open(\"metadata.jsonl\", 'w') as f:\n",
    "    for idx,row in df.iterrows():\n",
    "        item = {\"file_name\": row['image'],\"text\":row['prompt']}\n",
    "        f.write(json.dumps(item) + \"\\n\")\n",
    "\n",
    "\n"
   ]
  },
  {
   "cell_type": "code",
   "execution_count": null,
   "metadata": {},
   "outputs": [],
   "source": [
    "with jsonlines.open('data.jsonl') as reader:\n",
    "    for obj in reader:\n",
    "        print(obj)"
   ]
  }
 ],
 "metadata": {
  "kernelspec": {
   "display_name": "base",
   "language": "python",
   "name": "python3"
  },
  "language_info": {
   "codemirror_mode": {
    "name": "ipython",
    "version": 3
   },
   "file_extension": ".py",
   "mimetype": "text/x-python",
   "name": "python",
   "nbconvert_exporter": "python",
   "pygments_lexer": "ipython3",
   "version": "2022.10.-1"
  },
  "orig_nbformat": 4
 },
 "nbformat": 4,
 "nbformat_minor": 2
}
